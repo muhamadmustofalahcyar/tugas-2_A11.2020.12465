{
  "nbformat": 4,
  "nbformat_minor": 0,
  "metadata": {
    "colab": {
      "provenance": []
    },
    "kernelspec": {
      "name": "python3",
      "display_name": "Python 3"
    },
    "language_info": {
      "name": "python"
    }
  },
  "cells": [
    {
      "cell_type": "code",
      "execution_count": 1,
      "metadata": {
        "id": "i-jcO8qSY2DF"
      },
      "outputs": [],
      "source": [
        "import numpy as np\n",
        "import matplotlib.pyplot as plt\n",
        "import pandas as pd\n"
      ]
    },
    {
      "cell_type": "markdown",
      "source": [
        "numpy digunakan untuk komputasi matriks.\n",
        "Matplotlib adalah pustaka plot untuk bahasa pemrograman Python dan ekstensi matematika numeriknya NumPy.\n",
        "pandas adalah perpustakaan perangkat lunak yang ditulis untuk bahasa pemrograman Python untuk manipulasi dan analisis data.\n",
        "\n",
        "---\n",
        "\n"
      ],
      "metadata": {
        "id": "Qyf8kanGavq8"
      }
    },
    {
      "cell_type": "markdown",
      "source": [],
      "metadata": {
        "id": "7Te8uMsTqHFk"
      }
    },
    {
      "cell_type": "code",
      "source": [
        "\n",
        "import pandas as pd\n",
        "dataset = pd.read_csv('https://storage.googleapis.com/dqlab-dataset/pythonTutorial/online_raw.csv')\n",
        "print('shape dataset:', dataset.shape)\n",
        "print('\\nLima data teratas:\\n', dataset.head)\n",
        "print('\\nInformasi dataset:')\n",
        "print(dataset.info())\n",
        "print('\\nStatistik deskriptif:\\n', dataset.describe())\n"
      ],
      "metadata": {
        "colab": {
          "base_uri": "https://localhost:8080/"
        },
        "id": "pnVSK_a0bg1Y",
        "outputId": "c2cd1f22-8f22-462c-810a-e1809c8dc222"
      },
      "execution_count": 15,
      "outputs": [
        {
          "output_type": "stream",
          "name": "stdout",
          "text": [
            "shape dataset: (12330, 18)\n",
            "\n",
            "Lima data teratas:\n",
            " <bound method NDFrame.head of        Administrative  Administrative_Duration  Informational  \\\n",
            "0                 0.0                      0.0            0.0   \n",
            "1                 0.0                      0.0            0.0   \n",
            "2                 0.0                     -1.0            0.0   \n",
            "3                 0.0                      0.0            0.0   \n",
            "4                 0.0                      0.0            0.0   \n",
            "...               ...                      ...            ...   \n",
            "12325             3.0                    145.0            0.0   \n",
            "12326             0.0                      0.0            0.0   \n",
            "12327             0.0                      0.0            0.0   \n",
            "12328             4.0                     75.0            0.0   \n",
            "12329             0.0                      0.0            0.0   \n",
            "\n",
            "       Informational_Duration  ProductRelated  ProductRelated_Duration  \\\n",
            "0                         0.0             1.0                 0.000000   \n",
            "1                         0.0             2.0                64.000000   \n",
            "2                        -1.0             1.0                -1.000000   \n",
            "3                         0.0             2.0                 2.666667   \n",
            "4                         0.0            10.0               627.500000   \n",
            "...                       ...             ...                      ...   \n",
            "12325                     0.0            53.0              1783.791667   \n",
            "12326                     0.0             5.0               465.750000   \n",
            "12327                     0.0             6.0               184.250000   \n",
            "12328                     0.0            15.0               346.000000   \n",
            "12329                     0.0             3.0                21.250000   \n",
            "\n",
            "       BounceRates  ExitRates  PageValues  SpecialDay Month  OperatingSystems  \\\n",
            "0         0.200000   0.200000    0.000000         0.0   Feb                 1   \n",
            "1         0.000000   0.100000    0.000000         0.0   Feb                 2   \n",
            "2         0.200000   0.200000    0.000000         0.0   Feb                 4   \n",
            "3         0.050000   0.140000    0.000000         0.0   Feb                 3   \n",
            "4         0.020000   0.050000    0.000000         0.0   Feb                 3   \n",
            "...            ...        ...         ...         ...   ...               ...   \n",
            "12325     0.007143   0.029031   12.241717         0.0   Dec                 4   \n",
            "12326     0.000000   0.021333    0.000000         0.0   Nov                 3   \n",
            "12327     0.083333   0.086667    0.000000         0.0   Nov                 3   \n",
            "12328     0.000000   0.021053    0.000000         0.0   Nov                 2   \n",
            "12329     0.000000   0.066667    0.000000         0.0   Nov                 3   \n",
            "\n",
            "       Browser  Region  TrafficType        VisitorType  Weekend  Revenue  \n",
            "0            1       1            1  Returning_Visitor    False    False  \n",
            "1            2       1            2  Returning_Visitor    False    False  \n",
            "2            1       9            3  Returning_Visitor    False    False  \n",
            "3            2       2            4  Returning_Visitor    False    False  \n",
            "4            3       1            4  Returning_Visitor     True    False  \n",
            "...        ...     ...          ...                ...      ...      ...  \n",
            "12325        6       1            1  Returning_Visitor     True    False  \n",
            "12326        2       1            8  Returning_Visitor     True    False  \n",
            "12327        2       1           13  Returning_Visitor     True    False  \n",
            "12328        2       3           11  Returning_Visitor    False    False  \n",
            "12329        2       1            2        New_Visitor     True    False  \n",
            "\n",
            "[12330 rows x 18 columns]>\n",
            "\n",
            "Informasi dataset:\n",
            "<class 'pandas.core.frame.DataFrame'>\n",
            "RangeIndex: 12330 entries, 0 to 12329\n",
            "Data columns (total 18 columns):\n",
            " #   Column                   Non-Null Count  Dtype  \n",
            "---  ------                   --------------  -----  \n",
            " 0   Administrative           12316 non-null  float64\n",
            " 1   Administrative_Duration  12316 non-null  float64\n",
            " 2   Informational            12316 non-null  float64\n",
            " 3   Informational_Duration   12316 non-null  float64\n",
            " 4   ProductRelated           12316 non-null  float64\n",
            " 5   ProductRelated_Duration  12316 non-null  float64\n",
            " 6   BounceRates              12316 non-null  float64\n",
            " 7   ExitRates                12316 non-null  float64\n",
            " 8   PageValues               12330 non-null  float64\n",
            " 9   SpecialDay               12330 non-null  float64\n",
            " 10  Month                    12330 non-null  object \n",
            " 11  OperatingSystems         12330 non-null  int64  \n",
            " 12  Browser                  12330 non-null  int64  \n",
            " 13  Region                   12330 non-null  int64  \n",
            " 14  TrafficType              12330 non-null  int64  \n",
            " 15  VisitorType              12330 non-null  object \n",
            " 16  Weekend                  12330 non-null  bool   \n",
            " 17  Revenue                  12330 non-null  bool   \n",
            "dtypes: bool(2), float64(10), int64(4), object(2)\n",
            "memory usage: 1.5+ MB\n",
            "None\n",
            "\n",
            "Statistik deskriptif:\n",
            "        Administrative  Administrative_Duration  Informational  \\\n",
            "count    12316.000000             12316.000000   12316.000000   \n",
            "mean         2.317798                80.906176       0.503979   \n",
            "std          3.322754               176.860432       1.270701   \n",
            "min          0.000000                -1.000000       0.000000   \n",
            "25%          0.000000                 0.000000       0.000000   \n",
            "50%          1.000000                 8.000000       0.000000   \n",
            "75%          4.000000                93.500000       0.000000   \n",
            "max         27.000000              3398.750000      24.000000   \n",
            "\n",
            "       Informational_Duration  ProductRelated  ProductRelated_Duration  \\\n",
            "count            12316.000000    12316.000000             12316.000000   \n",
            "mean                34.506387       31.763884              1196.037057   \n",
            "std                140.825479       44.490339              1914.372511   \n",
            "min                 -1.000000        0.000000                -1.000000   \n",
            "25%                  0.000000        7.000000               185.000000   \n",
            "50%                  0.000000       18.000000               599.766190   \n",
            "75%                  0.000000       38.000000              1466.479902   \n",
            "max               2549.375000      705.000000             63973.522230   \n",
            "\n",
            "        BounceRates     ExitRates    PageValues    SpecialDay  \\\n",
            "count  12316.000000  12316.000000  12330.000000  12330.000000   \n",
            "mean       0.022152      0.043003      5.889258      0.061427   \n",
            "std        0.048427      0.048527     18.568437      0.198917   \n",
            "min        0.000000      0.000000      0.000000      0.000000   \n",
            "25%        0.000000      0.014286      0.000000      0.000000   \n",
            "50%        0.003119      0.025124      0.000000      0.000000   \n",
            "75%        0.016684      0.050000      0.000000      0.000000   \n",
            "max        0.200000      0.200000    361.763742      1.000000   \n",
            "\n",
            "       OperatingSystems       Browser        Region   TrafficType  \n",
            "count      12330.000000  12330.000000  12330.000000  12330.000000  \n",
            "mean           2.124006      2.357097      3.147364      4.069586  \n",
            "std            0.911325      1.717277      2.401591      4.025169  \n",
            "min            1.000000      1.000000      1.000000      1.000000  \n",
            "25%            2.000000      2.000000      1.000000      2.000000  \n",
            "50%            2.000000      2.000000      3.000000      2.000000  \n",
            "75%            3.000000      2.000000      4.000000      4.000000  \n",
            "max            8.000000     13.000000      9.000000     20.000000  \n"
          ]
        }
      ]
    },
    {
      "cell_type": "markdown",
      "source": [],
      "metadata": {
        "id": "9o2UGwnbbJnH"
      }
    },
    {
      "cell_type": "markdown",
      "source": [
        "Tahapan pertama dalam proses machine learning adalah eksplorasi data. Eksplorasi data merupakan proses pemahaman terhadap data yang akan dianalisis. Dengan mengeksplorasi data terlebih dahulu, kita dapat menentukan teknik mana yang akan digunakan. Dibawah ini adalah contoh eksplorasi data dengan memahami statistika deskriptif dari data."
      ],
      "metadata": {
        "id": "OOqms_K4qNvA"
      }
    }
  ]
}